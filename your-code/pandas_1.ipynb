{
  "cells": [
    {
      "cell_type": "markdown",
      "metadata": {
        "id": "i2dz1fAeHv8D"
      },
      "source": [
        "# Introduction to Pandas Lab\n",
        "\n",
        "Complete the following set of exercises to solidify your knowledge of Pandas fundamentals."
      ]
    },
    {
      "cell_type": "markdown",
      "metadata": {
        "id": "yCcC0lAkHv8H"
      },
      "source": [
        "### 1. Import Numpy and Pandas and alias them to `np` and `pd` respectively."
      ]
    },
    {
      "cell_type": "code",
      "execution_count": 1,
      "metadata": {
        "id": "dN1rp5bzHv8I"
      },
      "outputs": [],
      "source": [
        "import pandas as pd\n",
        "import numpy as np"
      ]
    },
    {
      "cell_type": "markdown",
      "metadata": {
        "id": "jpDV4uxzHv8K"
      },
      "source": [
        "### 2. Create a Pandas Series containing the elements of the list below."
      ]
    },
    {
      "cell_type": "code",
      "execution_count": 2,
      "metadata": {
        "id": "4qnYW3ZCHv8L"
      },
      "outputs": [],
      "source": [
        "lst = [5.7, 75.2, 74.4, 84.0, 66.5, 66.3, 55.8, 75.7, 29.1, 43.7]"
      ]
    },
    {
      "cell_type": "code",
      "execution_count": 4,
      "metadata": {
        "colab": {
          "base_uri": "https://localhost:8080/"
        },
        "id": "CgmvSuiQHv8M",
        "outputId": "d1b114e4-8a50-4a15-b217-c311302f4e3d"
      },
      "outputs": [
        {
          "output_type": "stream",
          "name": "stdout",
          "text": [
            "0     5.7\n",
            "1    75.2\n",
            "2    74.4\n",
            "3    84.0\n",
            "4    66.5\n",
            "5    66.3\n",
            "6    55.8\n",
            "7    75.7\n",
            "8    29.1\n",
            "9    43.7\n",
            "dtype: float64\n"
          ]
        }
      ],
      "source": [
        "#Creating a Pandas Series containing the elements of the list below\n",
        "series = pd.Series(lst)\n",
        "print(series)"
      ]
    },
    {
      "cell_type": "markdown",
      "metadata": {
        "id": "BRTbScxgHv8M"
      },
      "source": [
        "### 3. Use indexing to return the third value in the Series above.\n",
        "\n",
        "*Hint: Remember that indexing begins at 0.*"
      ]
    },
    {
      "cell_type": "code",
      "execution_count": 5,
      "metadata": {
        "colab": {
          "base_uri": "https://localhost:8080/"
        },
        "id": "UsitnJX8Hv8N",
        "outputId": "04f56f8a-6f54-4fa8-9e07-52eb37e5eac2"
      },
      "outputs": [
        {
          "output_type": "execute_result",
          "data": {
            "text/plain": [
              "74.4"
            ]
          },
          "metadata": {},
          "execution_count": 5
        }
      ],
      "source": [
        "#Indexing the third value in the series\n",
        "series[2]"
      ]
    },
    {
      "cell_type": "markdown",
      "metadata": {
        "id": "_IQABEgPHv8N"
      },
      "source": [
        "### 4. Create a Pandas DataFrame from the list of lists below. Each sublist should be represented as a row."
      ]
    },
    {
      "cell_type": "code",
      "execution_count": 6,
      "metadata": {
        "id": "ElWo4qoOHv8O"
      },
      "outputs": [],
      "source": [
        "b = [[53.1, 95.0, 67.5, 35.0, 78.4],\n",
        "     [61.3, 40.8, 30.8, 37.8, 87.6],\n",
        "     [20.6, 73.2, 44.2, 14.6, 91.8],\n",
        "     [57.4, 0.1, 96.1, 4.2, 69.5],\n",
        "     [83.6, 20.5, 85.4, 22.8, 35.9],\n",
        "     [49.0, 69.0, 0.1, 31.8, 89.1],\n",
        "     [23.3, 40.7, 95.0, 83.8, 26.9],\n",
        "     [27.6, 26.4, 53.8, 88.8, 68.5],\n",
        "     [96.6, 96.4, 53.4, 72.4, 50.1],\n",
        "     [73.7, 39.0, 43.2, 81.6, 34.7]]"
      ]
    },
    {
      "cell_type": "code",
      "execution_count": 8,
      "metadata": {
        "colab": {
          "base_uri": "https://localhost:8080/"
        },
        "id": "aaKlFemXHv8P",
        "outputId": "b7c69515-b0df-47ed-d00c-701949bdd0b1"
      },
      "outputs": [
        {
          "output_type": "stream",
          "name": "stdout",
          "text": [
            "      0     1     2     3     4\n",
            "0  53.1  95.0  67.5  35.0  78.4\n",
            "1  61.3  40.8  30.8  37.8  87.6\n",
            "2  20.6  73.2  44.2  14.6  91.8\n",
            "3  57.4   0.1  96.1   4.2  69.5\n",
            "4  83.6  20.5  85.4  22.8  35.9\n",
            "5  49.0  69.0   0.1  31.8  89.1\n",
            "6  23.3  40.7  95.0  83.8  26.9\n",
            "7  27.6  26.4  53.8  88.8  68.5\n",
            "8  96.6  96.4  53.4  72.4  50.1\n",
            "9  73.7  39.0  43.2  81.6  34.7\n"
          ]
        }
      ],
      "source": [
        "#creating a pandas dataframe\n",
        "df = pd.DataFrame(b)\n",
        "print(df)"
      ]
    },
    {
      "cell_type": "markdown",
      "metadata": {
        "id": "Cyd2zfV5Hv8Q"
      },
      "source": [
        "### 5. Rename the data frame columns based on the names in the list below."
      ]
    },
    {
      "cell_type": "code",
      "execution_count": 10,
      "metadata": {
        "id": "cvNnvLM3Hv8R"
      },
      "outputs": [],
      "source": [
        "colnames = ['Score_1', 'Score_2', 'Score_3', 'Score_4', 'Score_5']"
      ]
    },
    {
      "cell_type": "code",
      "execution_count": 11,
      "metadata": {
        "colab": {
          "base_uri": "https://localhost:8080/"
        },
        "id": "K5uU7XaBHv8R",
        "outputId": "83dfb392-0659-477b-9c31-6a922c1f7d41"
      },
      "outputs": [
        {
          "output_type": "stream",
          "name": "stdout",
          "text": [
            "   Score_1  Score_2  Score_3  Score_4  Score_5\n",
            "0     53.1     95.0     67.5     35.0     78.4\n",
            "1     61.3     40.8     30.8     37.8     87.6\n",
            "2     20.6     73.2     44.2     14.6     91.8\n",
            "3     57.4      0.1     96.1      4.2     69.5\n",
            "4     83.6     20.5     85.4     22.8     35.9\n",
            "5     49.0     69.0      0.1     31.8     89.1\n",
            "6     23.3     40.7     95.0     83.8     26.9\n",
            "7     27.6     26.4     53.8     88.8     68.5\n",
            "8     96.6     96.4     53.4     72.4     50.1\n",
            "9     73.7     39.0     43.2     81.6     34.7\n"
          ]
        }
      ],
      "source": [
        "#renaming the dataframe column names\n",
        "df.columns = colnames\n",
        "print(df)"
      ]
    },
    {
      "cell_type": "markdown",
      "metadata": {
        "id": "QHjuftANHv8T"
      },
      "source": [
        "### 6. Create a subset of this data frame that contains only the Score 1, 3, and 5 columns."
      ]
    },
    {
      "cell_type": "code",
      "execution_count": 12,
      "metadata": {
        "colab": {
          "base_uri": "https://localhost:8080/"
        },
        "id": "8pTwiAJQHv8T",
        "outputId": "ba5de354-9fda-4156-a873-c7287cb577cc"
      },
      "outputs": [
        {
          "output_type": "stream",
          "name": "stdout",
          "text": [
            "   Score_1  Score_3  Score_5\n",
            "0     53.1     67.5     78.4\n",
            "1     61.3     30.8     87.6\n",
            "2     20.6     44.2     91.8\n",
            "3     57.4     96.1     69.5\n",
            "4     83.6     85.4     35.9\n",
            "5     49.0      0.1     89.1\n",
            "6     23.3     95.0     26.9\n",
            "7     27.6     53.8     68.5\n",
            "8     96.6     53.4     50.1\n",
            "9     73.7     43.2     34.7\n"
          ]
        }
      ],
      "source": [
        "#creating a subset of the dataframe\n",
        "subset_df = df[['Score_1', 'Score_3', 'Score_5']]\n",
        "print(subset_df)"
      ]
    },
    {
      "cell_type": "markdown",
      "metadata": {
        "id": "ejoum7z0Hv8V"
      },
      "source": [
        "### 7. From the original data frame, calculate the average Score_3 value."
      ]
    },
    {
      "cell_type": "code",
      "execution_count": 13,
      "metadata": {
        "colab": {
          "base_uri": "https://localhost:8080/"
        },
        "id": "Ei6_Ks9CHv8V",
        "outputId": "3123101a-7c14-4b8a-bf81-d710402bdc21"
      },
      "outputs": [
        {
          "output_type": "stream",
          "name": "stdout",
          "text": [
            "56.95000000000001\n"
          ]
        }
      ],
      "source": [
        "#calculating average Score_3 value\n",
        "average_score_3 = df['Score_3'].mean()\n",
        "print(average_score_3)"
      ]
    },
    {
      "cell_type": "markdown",
      "metadata": {
        "id": "VqUTwiSeHv8W"
      },
      "source": [
        "### 8. From the original data frame, calculate the maximum Score_4 value."
      ]
    },
    {
      "cell_type": "code",
      "execution_count": 14,
      "metadata": {
        "colab": {
          "base_uri": "https://localhost:8080/"
        },
        "id": "xPS3zbGJHv8W",
        "outputId": "72ff577a-3e72-427f-b6ed-7b6c2c2f26f0"
      },
      "outputs": [
        {
          "output_type": "stream",
          "name": "stdout",
          "text": [
            "88.8\n"
          ]
        }
      ],
      "source": [
        "#calculating maximum score_4 value\n",
        "max_score_4 = df['Score_4'].max()\n",
        "print(max_score_4)"
      ]
    },
    {
      "cell_type": "markdown",
      "metadata": {
        "id": "f7iYQy_AHv8X"
      },
      "source": [
        "### 9. From the original data frame, calculate the median Score 2 value."
      ]
    },
    {
      "cell_type": "code",
      "execution_count": 15,
      "metadata": {
        "colab": {
          "base_uri": "https://localhost:8080/"
        },
        "id": "Wn0ij3qqHv8X",
        "outputId": "a71c123b-afb8-4e87-ef51-cabd20d1b2d4"
      },
      "outputs": [
        {
          "output_type": "stream",
          "name": "stdout",
          "text": [
            "40.75\n"
          ]
        }
      ],
      "source": [
        "#calculating median score 2 value\n",
        "median_score_2 = df['Score_2'].median()\n",
        "print(median_score_2)"
      ]
    },
    {
      "cell_type": "markdown",
      "metadata": {
        "id": "emDBcxnhHv8X"
      },
      "source": [
        "### 10. Create a Pandas DataFrame from the dictionary of product orders below."
      ]
    },
    {
      "cell_type": "code",
      "execution_count": 16,
      "metadata": {
        "id": "7kFBrCkkHv8Y"
      },
      "outputs": [],
      "source": [
        "orders = {'Description': ['LUNCH BAG APPLE DESIGN',\n",
        "  'SET OF 60 VINTAGE LEAF CAKE CASES ',\n",
        "  'RIBBON REEL STRIPES DESIGN ',\n",
        "  'WORLD WAR 2 GLIDERS ASSTD DESIGNS',\n",
        "  'PLAYING CARDS JUBILEE UNION JACK',\n",
        "  'POPCORN HOLDER',\n",
        "  'BOX OF VINTAGE ALPHABET BLOCKS',\n",
        "  'PARTY BUNTING',\n",
        "  'JAZZ HEARTS ADDRESS BOOK',\n",
        "  'SET OF 4 SANTA PLACE SETTINGS'],\n",
        " 'Quantity': [1, 24, 1, 2880, 2, 7, 1, 4, 10, 48],\n",
        " 'UnitPrice': [1.65, 0.55, 1.65, 0.18, 1.25, 0.85, 11.95, 4.95, 0.19, 1.25],\n",
        " 'Revenue': [1.65, 13.2, 1.65, 518.4, 2.5, 5.95, 11.95, 19.8, 1.9, 60.0]}"
      ]
    },
    {
      "cell_type": "code",
      "execution_count": 17,
      "metadata": {
        "colab": {
          "base_uri": "https://localhost:8080/"
        },
        "id": "eVpfCv7pHv8Y",
        "outputId": "8dad3488-6ac6-4008-d83f-92f592e7ad73"
      },
      "outputs": [
        {
          "output_type": "stream",
          "name": "stdout",
          "text": [
            "                          Description  Quantity  UnitPrice  Revenue\n",
            "0              LUNCH BAG APPLE DESIGN         1       1.65     1.65\n",
            "1  SET OF 60 VINTAGE LEAF CAKE CASES         24       0.55    13.20\n",
            "2         RIBBON REEL STRIPES DESIGN          1       1.65     1.65\n",
            "3   WORLD WAR 2 GLIDERS ASSTD DESIGNS      2880       0.18   518.40\n",
            "4    PLAYING CARDS JUBILEE UNION JACK         2       1.25     2.50\n",
            "5                      POPCORN HOLDER         7       0.85     5.95\n",
            "6      BOX OF VINTAGE ALPHABET BLOCKS         1      11.95    11.95\n",
            "7                       PARTY BUNTING         4       4.95    19.80\n",
            "8            JAZZ HEARTS ADDRESS BOOK        10       0.19     1.90\n",
            "9       SET OF 4 SANTA PLACE SETTINGS        48       1.25    60.00\n"
          ]
        }
      ],
      "source": [
        "#dataframe fro the orders\n",
        "orders = pd.DataFrame(orders)\n",
        "print(orders)"
      ]
    },
    {
      "cell_type": "markdown",
      "metadata": {
        "id": "xaKSHVbKHv8Z"
      },
      "source": [
        "### 11. Calculate the total quantity ordered and revenue generated from these orders."
      ]
    },
    {
      "cell_type": "code",
      "execution_count": 18,
      "metadata": {
        "colab": {
          "base_uri": "https://localhost:8080/"
        },
        "id": "oZhFyQPRHv8Z",
        "outputId": "dcfb1c50-e6ad-41ef-e65c-179a195c69ab"
      },
      "outputs": [
        {
          "output_type": "stream",
          "name": "stdout",
          "text": [
            "2978\n",
            "637.0\n"
          ]
        }
      ],
      "source": [
        "#calculating the total quantity ordered and revenue generated\n",
        "total_orders = orders['Quantity'].sum()\n",
        "total_revenue = orders['Revenue'].sum()\n",
        "print(total_orders)\n",
        "print(total_revenue)"
      ]
    },
    {
      "cell_type": "markdown",
      "metadata": {
        "id": "UEB_NTmuHv8a"
      },
      "source": [
        "### 12. Obtain the prices of the most expensive and least expensive items ordered and print the difference."
      ]
    },
    {
      "cell_type": "code",
      "execution_count": 19,
      "metadata": {
        "colab": {
          "base_uri": "https://localhost:8080/"
        },
        "id": "L635WR3yHv8a",
        "outputId": "022298d6-ff15-4fec-a81c-381e8637be70"
      },
      "outputs": [
        {
          "output_type": "stream",
          "name": "stdout",
          "text": [
            "11.77\n"
          ]
        }
      ],
      "source": [
        "#calculating the prices of the most expensive and the least expensive item ordered with printing the difference\n",
        "most_expensive = orders['UnitPrice'].max()\n",
        "least_expensive = orders['UnitPrice'].min()\n",
        "print(most_expensive - least_expensive)"
      ]
    },
    {
      "cell_type": "markdown",
      "metadata": {
        "id": "IDs3fU8THv8a"
      },
      "source": [
        "## Let's load another dataset for more exercisesº"
      ]
    },
    {
      "cell_type": "code",
      "execution_count": 22,
      "metadata": {
        "id": "ugqc9GIfHv8a"
      },
      "outputs": [],
      "source": [
        "# Run this code:\n",
        "admissions = pd.read_csv('Admission_Predict.csv')"
      ]
    },
    {
      "cell_type": "markdown",
      "metadata": {
        "id": "QVmm6sGTHv8a"
      },
      "source": [
        "Let's evaluate the dataset by looking at the `head` function."
      ]
    },
    {
      "cell_type": "code",
      "execution_count": 23,
      "metadata": {
        "colab": {
          "base_uri": "https://localhost:8080/",
          "height": 206
        },
        "id": "xjZ80rlJHv8b",
        "outputId": "4ccb725b-1d4b-4426-9fad-2a2eb145692d"
      },
      "outputs": [
        {
          "output_type": "execute_result",
          "data": {
            "text/plain": [
              "   Serial No.  GRE Score  TOEFL Score  University Rating  SOP  LOR   CGPA  \\\n",
              "0           1        337          118                  4  4.5   4.5  9.65   \n",
              "1           2        316          104                  3  3.0   3.5  8.00   \n",
              "2           3        322          110                  3  3.5   2.5  8.67   \n",
              "3           4        314          103                  2  2.0   3.0  8.21   \n",
              "4           5        330          115                  5  4.5   3.0  9.34   \n",
              "\n",
              "   Research  Chance of Admit   \n",
              "0         1              0.92  \n",
              "1         1              0.72  \n",
              "2         1              0.80  \n",
              "3         0              0.65  \n",
              "4         1              0.90  "
            ],
            "text/html": [
              "\n",
              "  <div id=\"df-157e06ac-8628-4958-8ecf-401c676cc5e9\" class=\"colab-df-container\">\n",
              "    <div>\n",
              "<style scoped>\n",
              "    .dataframe tbody tr th:only-of-type {\n",
              "        vertical-align: middle;\n",
              "    }\n",
              "\n",
              "    .dataframe tbody tr th {\n",
              "        vertical-align: top;\n",
              "    }\n",
              "\n",
              "    .dataframe thead th {\n",
              "        text-align: right;\n",
              "    }\n",
              "</style>\n",
              "<table border=\"1\" class=\"dataframe\">\n",
              "  <thead>\n",
              "    <tr style=\"text-align: right;\">\n",
              "      <th></th>\n",
              "      <th>Serial No.</th>\n",
              "      <th>GRE Score</th>\n",
              "      <th>TOEFL Score</th>\n",
              "      <th>University Rating</th>\n",
              "      <th>SOP</th>\n",
              "      <th>LOR</th>\n",
              "      <th>CGPA</th>\n",
              "      <th>Research</th>\n",
              "      <th>Chance of Admit</th>\n",
              "    </tr>\n",
              "  </thead>\n",
              "  <tbody>\n",
              "    <tr>\n",
              "      <th>0</th>\n",
              "      <td>1</td>\n",
              "      <td>337</td>\n",
              "      <td>118</td>\n",
              "      <td>4</td>\n",
              "      <td>4.5</td>\n",
              "      <td>4.5</td>\n",
              "      <td>9.65</td>\n",
              "      <td>1</td>\n",
              "      <td>0.92</td>\n",
              "    </tr>\n",
              "    <tr>\n",
              "      <th>1</th>\n",
              "      <td>2</td>\n",
              "      <td>316</td>\n",
              "      <td>104</td>\n",
              "      <td>3</td>\n",
              "      <td>3.0</td>\n",
              "      <td>3.5</td>\n",
              "      <td>8.00</td>\n",
              "      <td>1</td>\n",
              "      <td>0.72</td>\n",
              "    </tr>\n",
              "    <tr>\n",
              "      <th>2</th>\n",
              "      <td>3</td>\n",
              "      <td>322</td>\n",
              "      <td>110</td>\n",
              "      <td>3</td>\n",
              "      <td>3.5</td>\n",
              "      <td>2.5</td>\n",
              "      <td>8.67</td>\n",
              "      <td>1</td>\n",
              "      <td>0.80</td>\n",
              "    </tr>\n",
              "    <tr>\n",
              "      <th>3</th>\n",
              "      <td>4</td>\n",
              "      <td>314</td>\n",
              "      <td>103</td>\n",
              "      <td>2</td>\n",
              "      <td>2.0</td>\n",
              "      <td>3.0</td>\n",
              "      <td>8.21</td>\n",
              "      <td>0</td>\n",
              "      <td>0.65</td>\n",
              "    </tr>\n",
              "    <tr>\n",
              "      <th>4</th>\n",
              "      <td>5</td>\n",
              "      <td>330</td>\n",
              "      <td>115</td>\n",
              "      <td>5</td>\n",
              "      <td>4.5</td>\n",
              "      <td>3.0</td>\n",
              "      <td>9.34</td>\n",
              "      <td>1</td>\n",
              "      <td>0.90</td>\n",
              "    </tr>\n",
              "  </tbody>\n",
              "</table>\n",
              "</div>\n",
              "    <div class=\"colab-df-buttons\">\n",
              "\n",
              "  <div class=\"colab-df-container\">\n",
              "    <button class=\"colab-df-convert\" onclick=\"convertToInteractive('df-157e06ac-8628-4958-8ecf-401c676cc5e9')\"\n",
              "            title=\"Convert this dataframe to an interactive table.\"\n",
              "            style=\"display:none;\">\n",
              "\n",
              "  <svg xmlns=\"http://www.w3.org/2000/svg\" height=\"24px\" viewBox=\"0 -960 960 960\">\n",
              "    <path d=\"M120-120v-720h720v720H120Zm60-500h600v-160H180v160Zm220 220h160v-160H400v160Zm0 220h160v-160H400v160ZM180-400h160v-160H180v160Zm440 0h160v-160H620v160ZM180-180h160v-160H180v160Zm440 0h160v-160H620v160Z\"/>\n",
              "  </svg>\n",
              "    </button>\n",
              "\n",
              "  <style>\n",
              "    .colab-df-container {\n",
              "      display:flex;\n",
              "      gap: 12px;\n",
              "    }\n",
              "\n",
              "    .colab-df-convert {\n",
              "      background-color: #E8F0FE;\n",
              "      border: none;\n",
              "      border-radius: 50%;\n",
              "      cursor: pointer;\n",
              "      display: none;\n",
              "      fill: #1967D2;\n",
              "      height: 32px;\n",
              "      padding: 0 0 0 0;\n",
              "      width: 32px;\n",
              "    }\n",
              "\n",
              "    .colab-df-convert:hover {\n",
              "      background-color: #E2EBFA;\n",
              "      box-shadow: 0px 1px 2px rgba(60, 64, 67, 0.3), 0px 1px 3px 1px rgba(60, 64, 67, 0.15);\n",
              "      fill: #174EA6;\n",
              "    }\n",
              "\n",
              "    .colab-df-buttons div {\n",
              "      margin-bottom: 4px;\n",
              "    }\n",
              "\n",
              "    [theme=dark] .colab-df-convert {\n",
              "      background-color: #3B4455;\n",
              "      fill: #D2E3FC;\n",
              "    }\n",
              "\n",
              "    [theme=dark] .colab-df-convert:hover {\n",
              "      background-color: #434B5C;\n",
              "      box-shadow: 0px 1px 3px 1px rgba(0, 0, 0, 0.15);\n",
              "      filter: drop-shadow(0px 1px 2px rgba(0, 0, 0, 0.3));\n",
              "      fill: #FFFFFF;\n",
              "    }\n",
              "  </style>\n",
              "\n",
              "    <script>\n",
              "      const buttonEl =\n",
              "        document.querySelector('#df-157e06ac-8628-4958-8ecf-401c676cc5e9 button.colab-df-convert');\n",
              "      buttonEl.style.display =\n",
              "        google.colab.kernel.accessAllowed ? 'block' : 'none';\n",
              "\n",
              "      async function convertToInteractive(key) {\n",
              "        const element = document.querySelector('#df-157e06ac-8628-4958-8ecf-401c676cc5e9');\n",
              "        const dataTable =\n",
              "          await google.colab.kernel.invokeFunction('convertToInteractive',\n",
              "                                                    [key], {});\n",
              "        if (!dataTable) return;\n",
              "\n",
              "        const docLinkHtml = 'Like what you see? Visit the ' +\n",
              "          '<a target=\"_blank\" href=https://colab.research.google.com/notebooks/data_table.ipynb>data table notebook</a>'\n",
              "          + ' to learn more about interactive tables.';\n",
              "        element.innerHTML = '';\n",
              "        dataTable['output_type'] = 'display_data';\n",
              "        await google.colab.output.renderOutput(dataTable, element);\n",
              "        const docLink = document.createElement('div');\n",
              "        docLink.innerHTML = docLinkHtml;\n",
              "        element.appendChild(docLink);\n",
              "      }\n",
              "    </script>\n",
              "  </div>\n",
              "\n",
              "\n",
              "<div id=\"df-ffdef593-2fe5-40be-8f4b-4bc24c6aaeee\">\n",
              "  <button class=\"colab-df-quickchart\" onclick=\"quickchart('df-ffdef593-2fe5-40be-8f4b-4bc24c6aaeee')\"\n",
              "            title=\"Suggest charts\"\n",
              "            style=\"display:none;\">\n",
              "\n",
              "<svg xmlns=\"http://www.w3.org/2000/svg\" height=\"24px\"viewBox=\"0 0 24 24\"\n",
              "     width=\"24px\">\n",
              "    <g>\n",
              "        <path d=\"M19 3H5c-1.1 0-2 .9-2 2v14c0 1.1.9 2 2 2h14c1.1 0 2-.9 2-2V5c0-1.1-.9-2-2-2zM9 17H7v-7h2v7zm4 0h-2V7h2v10zm4 0h-2v-4h2v4z\"/>\n",
              "    </g>\n",
              "</svg>\n",
              "  </button>\n",
              "\n",
              "<style>\n",
              "  .colab-df-quickchart {\n",
              "      --bg-color: #E8F0FE;\n",
              "      --fill-color: #1967D2;\n",
              "      --hover-bg-color: #E2EBFA;\n",
              "      --hover-fill-color: #174EA6;\n",
              "      --disabled-fill-color: #AAA;\n",
              "      --disabled-bg-color: #DDD;\n",
              "  }\n",
              "\n",
              "  [theme=dark] .colab-df-quickchart {\n",
              "      --bg-color: #3B4455;\n",
              "      --fill-color: #D2E3FC;\n",
              "      --hover-bg-color: #434B5C;\n",
              "      --hover-fill-color: #FFFFFF;\n",
              "      --disabled-bg-color: #3B4455;\n",
              "      --disabled-fill-color: #666;\n",
              "  }\n",
              "\n",
              "  .colab-df-quickchart {\n",
              "    background-color: var(--bg-color);\n",
              "    border: none;\n",
              "    border-radius: 50%;\n",
              "    cursor: pointer;\n",
              "    display: none;\n",
              "    fill: var(--fill-color);\n",
              "    height: 32px;\n",
              "    padding: 0;\n",
              "    width: 32px;\n",
              "  }\n",
              "\n",
              "  .colab-df-quickchart:hover {\n",
              "    background-color: var(--hover-bg-color);\n",
              "    box-shadow: 0 1px 2px rgba(60, 64, 67, 0.3), 0 1px 3px 1px rgba(60, 64, 67, 0.15);\n",
              "    fill: var(--button-hover-fill-color);\n",
              "  }\n",
              "\n",
              "  .colab-df-quickchart-complete:disabled,\n",
              "  .colab-df-quickchart-complete:disabled:hover {\n",
              "    background-color: var(--disabled-bg-color);\n",
              "    fill: var(--disabled-fill-color);\n",
              "    box-shadow: none;\n",
              "  }\n",
              "\n",
              "  .colab-df-spinner {\n",
              "    border: 2px solid var(--fill-color);\n",
              "    border-color: transparent;\n",
              "    border-bottom-color: var(--fill-color);\n",
              "    animation:\n",
              "      spin 1s steps(1) infinite;\n",
              "  }\n",
              "\n",
              "  @keyframes spin {\n",
              "    0% {\n",
              "      border-color: transparent;\n",
              "      border-bottom-color: var(--fill-color);\n",
              "      border-left-color: var(--fill-color);\n",
              "    }\n",
              "    20% {\n",
              "      border-color: transparent;\n",
              "      border-left-color: var(--fill-color);\n",
              "      border-top-color: var(--fill-color);\n",
              "    }\n",
              "    30% {\n",
              "      border-color: transparent;\n",
              "      border-left-color: var(--fill-color);\n",
              "      border-top-color: var(--fill-color);\n",
              "      border-right-color: var(--fill-color);\n",
              "    }\n",
              "    40% {\n",
              "      border-color: transparent;\n",
              "      border-right-color: var(--fill-color);\n",
              "      border-top-color: var(--fill-color);\n",
              "    }\n",
              "    60% {\n",
              "      border-color: transparent;\n",
              "      border-right-color: var(--fill-color);\n",
              "    }\n",
              "    80% {\n",
              "      border-color: transparent;\n",
              "      border-right-color: var(--fill-color);\n",
              "      border-bottom-color: var(--fill-color);\n",
              "    }\n",
              "    90% {\n",
              "      border-color: transparent;\n",
              "      border-bottom-color: var(--fill-color);\n",
              "    }\n",
              "  }\n",
              "</style>\n",
              "\n",
              "  <script>\n",
              "    async function quickchart(key) {\n",
              "      const quickchartButtonEl =\n",
              "        document.querySelector('#' + key + ' button');\n",
              "      quickchartButtonEl.disabled = true;  // To prevent multiple clicks.\n",
              "      quickchartButtonEl.classList.add('colab-df-spinner');\n",
              "      try {\n",
              "        const charts = await google.colab.kernel.invokeFunction(\n",
              "            'suggestCharts', [key], {});\n",
              "      } catch (error) {\n",
              "        console.error('Error during call to suggestCharts:', error);\n",
              "      }\n",
              "      quickchartButtonEl.classList.remove('colab-df-spinner');\n",
              "      quickchartButtonEl.classList.add('colab-df-quickchart-complete');\n",
              "    }\n",
              "    (() => {\n",
              "      let quickchartButtonEl =\n",
              "        document.querySelector('#df-ffdef593-2fe5-40be-8f4b-4bc24c6aaeee button');\n",
              "      quickchartButtonEl.style.display =\n",
              "        google.colab.kernel.accessAllowed ? 'block' : 'none';\n",
              "    })();\n",
              "  </script>\n",
              "</div>\n",
              "\n",
              "    </div>\n",
              "  </div>\n"
            ],
            "application/vnd.google.colaboratory.intrinsic+json": {
              "type": "dataframe",
              "variable_name": "admissions",
              "summary": "{\n  \"name\": \"admissions\",\n  \"rows\": 385,\n  \"fields\": [\n    {\n      \"column\": \"Serial No.\",\n      \"properties\": {\n        \"dtype\": \"number\",\n        \"std\": 111,\n        \"min\": 1,\n        \"max\": 385,\n        \"num_unique_values\": 385,\n        \"samples\": [\n          269,\n          251,\n          356\n        ],\n        \"semantic_type\": \"\",\n        \"description\": \"\"\n      }\n    },\n    {\n      \"column\": \"GRE Score\",\n      \"properties\": {\n        \"dtype\": \"number\",\n        \"std\": 11,\n        \"min\": 290,\n        \"max\": 340,\n        \"num_unique_values\": 49,\n        \"samples\": [\n          317,\n          335,\n          297\n        ],\n        \"semantic_type\": \"\",\n        \"description\": \"\"\n      }\n    },\n    {\n      \"column\": \"TOEFL Score\",\n      \"properties\": {\n        \"dtype\": \"number\",\n        \"std\": 6,\n        \"min\": 92,\n        \"max\": 120,\n        \"num_unique_values\": 29,\n        \"samples\": [\n          94,\n          119,\n          107\n        ],\n        \"semantic_type\": \"\",\n        \"description\": \"\"\n      }\n    },\n    {\n      \"column\": \"University Rating\",\n      \"properties\": {\n        \"dtype\": \"number\",\n        \"std\": 1,\n        \"min\": 1,\n        \"max\": 5,\n        \"num_unique_values\": 5,\n        \"samples\": [\n          3,\n          1,\n          2\n        ],\n        \"semantic_type\": \"\",\n        \"description\": \"\"\n      }\n    },\n    {\n      \"column\": \"SOP\",\n      \"properties\": {\n        \"dtype\": \"number\",\n        \"std\": 1.0076395819221657,\n        \"min\": 1.0,\n        \"max\": 5.0,\n        \"num_unique_values\": 9,\n        \"samples\": [\n          1.0,\n          3.0,\n          5.0\n        ],\n        \"semantic_type\": \"\",\n        \"description\": \"\"\n      }\n    },\n    {\n      \"column\": \"LOR \",\n      \"properties\": {\n        \"dtype\": \"number\",\n        \"std\": 0.8969362987559213,\n        \"min\": 1.0,\n        \"max\": 5.0,\n        \"num_unique_values\": 9,\n        \"samples\": [\n          5.0,\n          3.5,\n          1.5\n        ],\n        \"semantic_type\": \"\",\n        \"description\": \"\"\n      }\n    },\n    {\n      \"column\": \"CGPA\",\n      \"properties\": {\n        \"dtype\": \"number\",\n        \"std\": 0.6023853232371412,\n        \"min\": 6.8,\n        \"max\": 9.92,\n        \"num_unique_values\": 168,\n        \"samples\": [\n          9.68,\n          7.6,\n          7.65\n        ],\n        \"semantic_type\": \"\",\n        \"description\": \"\"\n      }\n    },\n    {\n      \"column\": \"Research\",\n      \"properties\": {\n        \"dtype\": \"number\",\n        \"std\": 0,\n        \"min\": 0,\n        \"max\": 1,\n        \"num_unique_values\": 2,\n        \"samples\": [\n          0,\n          1\n        ],\n        \"semantic_type\": \"\",\n        \"description\": \"\"\n      }\n    },\n    {\n      \"column\": \"Chance of Admit \",\n      \"properties\": {\n        \"dtype\": \"number\",\n        \"std\": 0.1440267052633097,\n        \"min\": 0.34,\n        \"max\": 0.97,\n        \"num_unique_values\": 60,\n        \"samples\": [\n          0.92,\n          0.75\n        ],\n        \"semantic_type\": \"\",\n        \"description\": \"\"\n      }\n    }\n  ]\n}"
            }
          },
          "metadata": {},
          "execution_count": 23
        }
      ],
      "source": [
        "admissions.head()"
      ]
    },
    {
      "cell_type": "markdown",
      "metadata": {
        "id": "i4n7oBZhHv8b"
      },
      "source": [
        "### 1 - Before beginning to work with this dataset and evaluating graduate admissions data, we will verify that there is no missing data in the dataset. Do this in the cell below."
      ]
    },
    {
      "cell_type": "code",
      "execution_count": 24,
      "metadata": {
        "colab": {
          "base_uri": "https://localhost:8080/",
          "height": 366
        },
        "id": "buynDmjoHv8c",
        "outputId": "6d36a74e-8669-404c-e637-d8157c2adbc2"
      },
      "outputs": [
        {
          "output_type": "execute_result",
          "data": {
            "text/plain": [
              "Serial No.           0\n",
              "GRE Score            0\n",
              "TOEFL Score          0\n",
              "University Rating    0\n",
              "SOP                  0\n",
              "LOR                  0\n",
              "CGPA                 0\n",
              "Research             0\n",
              "Chance of Admit      0\n",
              "dtype: int64"
            ],
            "text/html": [
              "<div>\n",
              "<style scoped>\n",
              "    .dataframe tbody tr th:only-of-type {\n",
              "        vertical-align: middle;\n",
              "    }\n",
              "\n",
              "    .dataframe tbody tr th {\n",
              "        vertical-align: top;\n",
              "    }\n",
              "\n",
              "    .dataframe thead th {\n",
              "        text-align: right;\n",
              "    }\n",
              "</style>\n",
              "<table border=\"1\" class=\"dataframe\">\n",
              "  <thead>\n",
              "    <tr style=\"text-align: right;\">\n",
              "      <th></th>\n",
              "      <th>0</th>\n",
              "    </tr>\n",
              "  </thead>\n",
              "  <tbody>\n",
              "    <tr>\n",
              "      <th>Serial No.</th>\n",
              "      <td>0</td>\n",
              "    </tr>\n",
              "    <tr>\n",
              "      <th>GRE Score</th>\n",
              "      <td>0</td>\n",
              "    </tr>\n",
              "    <tr>\n",
              "      <th>TOEFL Score</th>\n",
              "      <td>0</td>\n",
              "    </tr>\n",
              "    <tr>\n",
              "      <th>University Rating</th>\n",
              "      <td>0</td>\n",
              "    </tr>\n",
              "    <tr>\n",
              "      <th>SOP</th>\n",
              "      <td>0</td>\n",
              "    </tr>\n",
              "    <tr>\n",
              "      <th>LOR</th>\n",
              "      <td>0</td>\n",
              "    </tr>\n",
              "    <tr>\n",
              "      <th>CGPA</th>\n",
              "      <td>0</td>\n",
              "    </tr>\n",
              "    <tr>\n",
              "      <th>Research</th>\n",
              "      <td>0</td>\n",
              "    </tr>\n",
              "    <tr>\n",
              "      <th>Chance of Admit</th>\n",
              "      <td>0</td>\n",
              "    </tr>\n",
              "  </tbody>\n",
              "</table>\n",
              "</div><br><label><b>dtype:</b> int64</label>"
            ]
          },
          "metadata": {},
          "execution_count": 24
        }
      ],
      "source": [
        "admissions.isnull().sum()"
      ]
    },
    {
      "cell_type": "markdown",
      "metadata": {
        "id": "isjZM843Hv8c"
      },
      "source": [
        "###  2 -  Interestingly, there is a column that uniquely identifies the applicants. This column is the serial number column. Instead of having our own index, we should make this column our index. Do this in the cell below. Keep the column in the dataframe in addition to making it an index."
      ]
    },
    {
      "cell_type": "code",
      "execution_count": 30,
      "metadata": {
        "colab": {
          "base_uri": "https://localhost:8080/"
        },
        "id": "XirP5AbmHv8d",
        "outputId": "f8c5f33f-e38e-49a5-8946-e4dba7d065e9"
      },
      "outputs": [
        {
          "output_type": "stream",
          "name": "stdout",
          "text": [
            "            Serial No.  GRE Score  TOEFL Score  University Rating  SOP  LOR   \\\n",
            "Serial No.                                                                     \n",
            "1                    1        337          118                  4  4.5   4.5   \n",
            "2                    2        316          104                  3  3.0   3.5   \n",
            "3                    3        322          110                  3  3.5   2.5   \n",
            "4                    4        314          103                  2  2.0   3.0   \n",
            "5                    5        330          115                  5  4.5   3.0   \n",
            "...                ...        ...          ...                ...  ...   ...   \n",
            "381                381        324          110                  3  3.5   3.5   \n",
            "382                382        325          107                  3  3.0   3.5   \n",
            "383                383        330          116                  4  5.0   4.5   \n",
            "384                384        312          103                  3  3.5   4.0   \n",
            "385                385        333          117                  4  5.0   4.0   \n",
            "\n",
            "            CGPA  Research  Chance of Admit   \n",
            "Serial No.                                    \n",
            "1           9.65         1              0.92  \n",
            "2           8.00         1              0.72  \n",
            "3           8.67         1              0.80  \n",
            "4           8.21         0              0.65  \n",
            "5           9.34         1              0.90  \n",
            "...          ...       ...               ...  \n",
            "381         9.04         1              0.82  \n",
            "382         9.11         1              0.84  \n",
            "383         9.45         1              0.91  \n",
            "384         8.78         0              0.67  \n",
            "385         9.66         1              0.95  \n",
            "\n",
            "[385 rows x 9 columns]\n"
          ]
        }
      ],
      "source": [
        "#set index\n",
        "admissions.set_index('Serial No.', drop = False, inplace = True)\n",
        "print(admissions)"
      ]
    },
    {
      "cell_type": "markdown",
      "metadata": {
        "id": "_rRot1UPHv8e"
      },
      "source": [
        "Turns out that `GRE Score` and `CGPA` also uniquely identify the data. Show this in the cell below."
      ]
    },
    {
      "cell_type": "markdown",
      "metadata": {
        "id": "75Uh7M_gHv8e"
      },
      "source": [
        "### 3 - In this part of the lab, we would like to test complex conditions on the entire data set at once. Let's start by finding the number of rows where the CGPA is greater than 9 and the student has performed an investigation."
      ]
    },
    {
      "cell_type": "code",
      "execution_count": 31,
      "metadata": {
        "scrolled": true,
        "colab": {
          "base_uri": "https://localhost:8080/"
        },
        "id": "X7PcsGkuHv8v",
        "outputId": "d127bdef-3b74-4f56-b2fd-aff2d35cd1ca"
      },
      "outputs": [
        {
          "output_type": "stream",
          "name": "stdout",
          "text": [
            "101\n"
          ]
        }
      ],
      "source": [
        "#row where the CGPA is greater than 9 and thr student performed an investigation\n",
        "rows = admissions[(admissions['CGPA'] > 9) & (admissions['Research'] == 1)]\n",
        "print(len(rows))"
      ]
    },
    {
      "cell_type": "markdown",
      "metadata": {
        "id": "vb58w_bqHv8v"
      },
      "source": [
        "### 4 - Now return all the rows where the CGPA is greater than 9 and the SOP score is less than 3.5. Find the mean chance of admit for these applicants."
      ]
    },
    {
      "cell_type": "code",
      "execution_count": 32,
      "metadata": {
        "colab": {
          "base_uri": "https://localhost:8080/"
        },
        "id": "3W6OtRZBHv8w",
        "outputId": "92dc02b5-daab-455b-e8f7-1d2f81296f54"
      },
      "outputs": [
        {
          "output_type": "stream",
          "name": "stdout",
          "text": [
            "            Serial No.  GRE Score  TOEFL Score  University Rating  SOP  LOR   \\\n",
            "Serial No.                                                                     \n",
            "29                  29        338          118                  4  3.0   4.5   \n",
            "63                  63        327          114                  3  3.0   3.0   \n",
            "141                141        326          114                  3  3.0   3.0   \n",
            "218                218        324          111                  4  3.0   3.0   \n",
            "382                382        325          107                  3  3.0   3.5   \n",
            "\n",
            "            CGPA  Research  Chance of Admit   \n",
            "Serial No.                                    \n",
            "29          9.40         1              0.91  \n",
            "63          9.02         0              0.61  \n",
            "141         9.11         1              0.83  \n",
            "218         9.01         1              0.82  \n",
            "382         9.11         1              0.84  \n",
            "0.8019999999999999\n"
          ]
        }
      ],
      "source": [
        "#rows where the  CGPA is greater than 9 and the SOP score is less than 3.5\n",
        "rows = admissions[(admissions['CGPA'] > 9) & (admissions['SOP'] < 3.5)]\n",
        "print(rows)\n",
        "\n",
        "#mean chance of admit for these applicants\n",
        "mean_chance_of_admit = rows['Chance of Admit '].mean()\n",
        "print(mean_chance_of_admit)"
      ]
    },
    {
      "cell_type": "code",
      "source": [],
      "metadata": {
        "id": "H91ZyMkQWMOG"
      },
      "execution_count": null,
      "outputs": []
    }
  ],
  "metadata": {
    "kernelspec": {
      "display_name": "Python 3 (ipykernel)",
      "language": "python",
      "name": "python3"
    },
    "language_info": {
      "codemirror_mode": {
        "name": "ipython",
        "version": 3
      },
      "file_extension": ".py",
      "mimetype": "text/x-python",
      "name": "python",
      "nbconvert_exporter": "python",
      "pygments_lexer": "ipython3",
      "version": "3.9.13"
    },
    "toc": {
      "base_numbering": "",
      "nav_menu": {},
      "number_sections": false,
      "sideBar": true,
      "skip_h1_title": false,
      "title_cell": "Table of Contents",
      "title_sidebar": "Contents",
      "toc_cell": false,
      "toc_position": {},
      "toc_section_display": true,
      "toc_window_display": true
    },
    "colab": {
      "provenance": []
    }
  },
  "nbformat": 4,
  "nbformat_minor": 0
}